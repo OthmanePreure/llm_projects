{
 "cells": [
  {
   "cell_type": "code",
   "execution_count": 3,
   "id": "73797753-0d04-41f3-9f24-b678b8ab54fc",
   "metadata": {},
   "outputs": [],
   "source": [
    "import os \n",
    "import requests\n",
    "from dotenv import load_dotenv\n",
    "from bs4 import BeautifulSoup\n",
    "from IPython.display import Markdown, display\n",
    "from openai import OpenAI"
   ]
  },
  {
   "cell_type": "code",
   "execution_count": 11,
   "id": "e6916e7d-ff39-4645-8820-da7d1eb90653",
   "metadata": {},
   "outputs": [
    {
     "name": "stdout",
     "output_type": "stream",
     "text": [
      "API key found and looks good\n"
     ]
    }
   ],
   "source": [
    "#load environment variables in .env\n",
    "\n",
    "load_dotenv()\n",
    "api_key = os.getenv('OPENAI_API_KEY')\n",
    "\n",
    "# Check the key\n",
    "\n",
    "if not api_key : \n",
    "    print(\"Not API key was found\")\n",
    "elif api_key[:8] != \"sk-proj-\":\n",
    "    print(\"An API key was find but it doesn't start with sk-proj-\")\n",
    "elif api_key.strip() != api_key : \n",
    "    print(\"An API key was found but there is a space at the start or the end\")\n",
    "else : \n",
    "    print(\"API key found and looks good\")"
   ]
  },
  {
   "cell_type": "code",
   "execution_count": 13,
   "id": "0dfb5b61-d495-40b5-9809-46d98666d6aa",
   "metadata": {},
   "outputs": [],
   "source": [
    "openai = OpenAI()\n"
   ]
  },
  {
   "cell_type": "code",
   "execution_count": 48,
   "id": "c045321c-bac9-4132-ac2f-0deb850a50c8",
   "metadata": {},
   "outputs": [],
   "source": [
    "class Website: \n",
    "    \"\"\"\n",
    "    A utility class to represent a Werbsite that we have scraped\n",
    "    \"\"\"\n",
    "    url:str\n",
    "    title:str\n",
    "    text:str\n",
    "    def __init__(self, url):\n",
    "        \"\"\"\n",
    "        create this website object from the given url using the BeautifulSoup library\n",
    "        \"\"\"\n",
    "        self.url = url\n",
    "        response = requests.get(url)\n",
    "        soup = BeautifulSoup(response.content, 'html.parser')\n",
    "        self.title = soup.title.string if soup.title else 'No title found'\n",
    "        for irrelevant in soup.body(['script', 'style', 'img', 'input']):\n",
    "            irrelevant.decompose()\n",
    "            \n",
    "        self.text = soup.body.get_text(separator= \"\\n\", strip=True)\n",
    "        "
   ]
  },
  {
   "cell_type": "code",
   "execution_count": 52,
   "id": "1c8cefc7-b849-41a6-bd25-111c9291cb42",
   "metadata": {
    "scrolled": true
   },
   "outputs": [
    {
     "name": "stdout",
     "output_type": "stream",
     "text": [
      "Home\n",
      "Outsmart\n",
      "An arena that pits LLMs against each other in a battle of diplomacy and deviousness\n",
      "About\n",
      "Posts\n",
      "Well, hi there.\n",
      "I’m Ed. I like writing code and experimenting with LLMs, and hopefully you’re here because you do too. I also enjoy DJing (but I’m badly out of practice), amateur electronic music production (\n",
      "very\n",
      "amateur) and losing myself in\n",
      "Hacker News\n",
      ", nodding my head sagely to things I only half understand.\n",
      "I’m the co-founder and CTO of\n",
      "Nebula.io\n",
      ". We’re applying AI to a field where it can make a massive, positive impact: helping people discover their potential and pursue their reason for being. Recruiters use our product today to source, understand, engage and manage talent. I’m previously the founder and CEO of AI startup untapt,\n",
      "acquired in 2021\n",
      ".\n",
      "We work with groundbreaking, proprietary LLMs verticalized for talent, we’ve\n",
      "patented\n",
      "our matching model, and our award-winning platform has happy customers and tons of press coverage.\n",
      "Connect\n",
      "with me for more!\n",
      "January 23, 2025\n",
      "LLM Workshop – Hands-on with Agents – resources\n",
      "December 21, 2024\n",
      "Welcome, SuperDataScientists!\n",
      "November 13, 2024\n",
      "Mastering AI and LLM Engineering – Resources\n",
      "October 16, 2024\n",
      "From Software Engineer to AI Data Scientist – resources\n",
      "Navigation\n",
      "Home\n",
      "Outsmart\n",
      "An arena that pits LLMs against each other in a battle of diplomacy and deviousness\n",
      "About\n",
      "Posts\n",
      "Get in touch\n",
      "ed [at] edwarddonner [dot] com\n",
      "www.edwarddonner.com\n",
      "Follow me\n",
      "LinkedIn\n",
      "Twitter\n",
      "Facebook\n",
      "Subscribe to newsletter\n",
      "Type your email…\n",
      "Subscribe\n"
     ]
    }
   ],
   "source": [
    "\n",
    "ed = Website(\"https://edwarddonner.com\")\n",
    "print(ed.text)"
   ]
  },
  {
   "cell_type": "code",
   "execution_count": 53,
   "id": "8ea73a77-a7f8-46c8-b102-0a0be1b7fede",
   "metadata": {},
   "outputs": [],
   "source": [
    "# Define our system prompt \n",
    "system_prompt = \"You are an assistant that analyzes the contents of website \\\n",
    "and provides a short summary, ignoring text might be navigation related. \\\n",
    "respond in markdown\""
   ]
  },
  {
   "cell_type": "code",
   "execution_count": 56,
   "id": "859756ec-493d-47c3-97f4-30145353b51d",
   "metadata": {},
   "outputs": [],
   "source": [
    "def user_prompt_for(website): \n",
    "    user_prompt = f\"you are looking at a website titled {website.title} \"\n",
    "    user_prompt += \"The contents of the website is as follows; \\\n",
    "    please provide a short summary of this website in markdown. \\\n",
    "    If it includes news or annoucements, then summarize these too.\\n\\n\"\n",
    "    user_prompt += website.text\n",
    "    return user_prompt"
   ]
  },
  {
   "cell_type": "code",
   "execution_count": 58,
   "id": "6c12be75-2134-422b-af67-aeb8cc67fab3",
   "metadata": {},
   "outputs": [],
   "source": [
    "def messages_for(website):\n",
    "    return [\n",
    "        {\"role\" : \"system\", \"content\": system_prompt},\n",
    "        {\"role\" : \"user\", \"content\": user_prompt_for(website)} \n",
    "    ]"
   ]
  },
  {
   "cell_type": "code",
   "execution_count": 60,
   "id": "cbd7cad9-e590-4732-a597-cd36c5e1d960",
   "metadata": {},
   "outputs": [],
   "source": [
    "def summarize(url): \n",
    "    website = Website(url)\n",
    "    response = Website(url)\n",
    "    response = openai.chat.completions.create(\n",
    "        model = \"gpt-4o-mini\",\n",
    "        messages = messages_for(website)\n",
    "        \n",
    "    )\n",
    "    return response.choices[0].message.content"
   ]
  },
  {
   "cell_type": "code",
   "execution_count": 61,
   "id": "207e8a76-4909-4494-9217-460290361724",
   "metadata": {},
   "outputs": [],
   "source": [
    "def display_summary(url):\n",
    "    print(\n",
    "    summary = summarize(url)\n",
    "    display(Markdown(summary))"
   ]
  },
  {
   "cell_type": "code",
   "execution_count": 64,
   "id": "3f53501c-92ae-4dd8-acfd-4888315cd19f",
   "metadata": {},
   "outputs": [
    {
     "data": {
      "text/markdown": [
       "# Summary of the Edward Donner Website\n",
       "\n",
       "The website serves as a personal platform for Ed Donner, showcasing his interests and expertise in AI and LLM (Large Language Model) technology. Ed is the co-founder and CTO of Nebula.io, a company that utilizes AI to help individuals discover their potential and manage talent effectively. He also previously founded the AI startup untapt, which was acquired in 2021.\n",
       "\n",
       "## Key Features:\n",
       "\n",
       "- **Outsmart**: An arena designed for competition among LLMs, focusing on diplomacy and strategy.\n",
       "- **About Ed**: A brief introduction to Ed's background in coding, DJing, and electronic music production, as well as his involvement in the tech community through platforms like Hacker News.\n",
       "- **Recent Posts**: A collection of resources related to AI and LLM projects, including workshops and educational content.\n",
       "\n",
       "## News and Announcements:\n",
       "\n",
       "1. **January 23, 2025**: Announcement of an LLM Workshop with hands-on resources for utilizing agents.\n",
       "2. **December 21, 2024**: A welcome message to a group referred to as \"SuperDataScientists.\"\n",
       "3. **November 13, 2024**: Release of resources for \"Mastering AI and LLM Engineering.\"\n",
       "4. **October 16, 2024**: Sharing of resources for transitioning from \"Software Engineer to AI Data Scientist.\"\n",
       "\n",
       "Visitors can connect with Ed through various social media platforms and subscribe to a newsletter for updates."
      ],
      "text/plain": [
       "<IPython.core.display.Markdown object>"
      ]
     },
     "metadata": {},
     "output_type": "display_data"
    }
   ],
   "source": [
    "display_summary(\"https://edwarddonner.com\")"
   ]
  },
  {
   "cell_type": "code",
   "execution_count": 65,
   "id": "f088124c-cd0d-402e-bd82-24e2c8b66065",
   "metadata": {},
   "outputs": [
    {
     "data": {
      "text/markdown": [
       "# CNN Website Summary\n",
       "\n",
       "CNN is a leading news organization providing breaking news, latest updates, and videos globally. The website features a variety of topics, including US and world news, politics, business, health, entertainment, sports, science, and climate change. Users can access live television, subscribe to newsletters, and follow specific topics of interest.\n",
       "\n",
       "## Recent News Highlights:\n",
       "- **Trump's Gaza Plan**: Former President Trump reaffirms his strategy regarding the Gaza situation, amid escalating tensions involving hostages and military operations from Israel.\n",
       "- **Israeli Military Actions**: Israeli Prime Minister Netanyahu emphasizes that military actions against Hamas will intensify if hostages aren’t released by a set deadline.\n",
       "- **Global Events**: Reports on significant global incidents including a moth infestation in a London mansion, a decline in shark attacks, and the release of a wrongly detained US teacher from Russia.\n",
       "- **Science and Technology**: Features such as a newly discovered asteroid posing a slight risk to Earth and advancements in organ transplants from gene-edited pigs.\n",
       "\n",
       "## User Interaction:\n",
       "The website encourages user feedback regarding ad relevance and technical issues experienced while browsing, indicating a focus on user experience.\n",
       "\n",
       "## Additional Features:\n",
       "The site offers multimedia content, including live updates, in-depth analyses, and a range of specialized segments that address various topics from fashion to science, catering to a widespread audience."
      ],
      "text/plain": [
       "<IPython.core.display.Markdown object>"
      ]
     },
     "metadata": {},
     "output_type": "display_data"
    }
   ],
   "source": [
    "display_summary(\"https://cnn.com\")"
   ]
  },
  {
   "cell_type": "code",
   "execution_count": 67,
   "id": "5ced3eb3-9d64-43de-bfe5-f157187f55bf",
   "metadata": {},
   "outputs": [
    {
     "data": {
      "text/markdown": [
       "# Website Summary\n",
       "\n",
       "The website titled \"No title found\" appears to be experiencing an error that prevents access to its content. Users are prompted to enable JavaScript and cookies in order to continue viewing the page. There are no accessible news or announcements available at this time."
      ],
      "text/plain": [
       "<IPython.core.display.Markdown object>"
      ]
     },
     "metadata": {},
     "output_type": "display_data"
    }
   ],
   "source": [
    "display_summary(\"https://openai.com\")"
   ]
  }
 ],
 "metadata": {
  "kernelspec": {
   "display_name": "Python 3 (ipykernel)",
   "language": "python",
   "name": "python3"
  },
  "language_info": {
   "codemirror_mode": {
    "name": "ipython",
    "version": 3
   },
   "file_extension": ".py",
   "mimetype": "text/x-python",
   "name": "python",
   "nbconvert_exporter": "python",
   "pygments_lexer": "ipython3",
   "version": "3.11.11"
  }
 },
 "nbformat": 4,
 "nbformat_minor": 5
}
